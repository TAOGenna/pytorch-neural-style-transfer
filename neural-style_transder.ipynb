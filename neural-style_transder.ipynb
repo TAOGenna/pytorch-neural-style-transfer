{
 "cells": [
  {
   "cell_type": "markdown",
   "metadata": {},
   "source": [
    "### TODO list \n",
    "- first implement a visualization tool for the feature representation\n",
    "    - build the VGG net\n",
    "    - build the NN with white noise as an input\n",
    "    - perform backpropagation with the formula given in the paper\n",
    "    - DO NOT implement yet the style stuff"
   ]
  },
  {
   "cell_type": "markdown",
   "metadata": {},
   "source": []
  }
 ],
 "metadata": {
  "language_info": {
   "name": "python"
  }
 },
 "nbformat": 4,
 "nbformat_minor": 2
}
